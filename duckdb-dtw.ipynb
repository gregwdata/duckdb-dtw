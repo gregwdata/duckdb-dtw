{
 "cells": [
  {
   "cell_type": "markdown",
   "metadata": {},
   "source": [
    "# DuckDB - DTW\n",
    "\n",
    "Implementing a working example of Dynamic Time Warping in SQL with DuckDB"
   ]
  },
  {
   "cell_type": "code",
   "execution_count": 1,
   "metadata": {},
   "outputs": [],
   "source": [
    "import duckdb\n",
    "import numpy as np"
   ]
  },
  {
   "cell_type": "code",
   "execution_count": 2,
   "metadata": {},
   "outputs": [],
   "source": [
    "db = duckdb.connect(':memory:')"
   ]
  },
  {
   "cell_type": "markdown",
   "metadata": {},
   "source": [
    "## Mock Data"
   ]
  },
  {
   "cell_type": "markdown",
   "metadata": {},
   "source": [
    "Initialize two arrays to server as our two comparison sequences:"
   ]
  },
  {
   "cell_type": "code",
   "execution_count": 3,
   "metadata": {},
   "outputs": [],
   "source": [
    "s1 = np.array([4,5,2.5,1.5,6.4,5.5,7.8,9.0,7.4,2.0,3.0])\n",
    "s2 = np.array([3.5,3.2,4,6.1,3.2,4.8,7.1,6.0])"
   ]
  },
  {
   "cell_type": "markdown",
   "metadata": {},
   "source": [
    "## Distance Matrix"
   ]
  },
  {
   "cell_type": "markdown",
   "metadata": {},
   "source": [
    "Start with a \"distance matrix\" where we calculate the distance function between every pair of points in the two sequences. In `SQL`, we can accomplish this with a cartesian join.\n",
    "\n",
    "In this example, we will be using the squared Euclidean distance, as is the default in the `dtaidistance` package we are using for reference. For the initial distance matrix, we record the square of the difference, then the final result will have `sqrt` applied. Substitution of other distance functions will be possible, and dealt with later on."
   ]
  },
  {
   "cell_type": "code",
   "execution_count": 5,
   "metadata": {},
   "outputs": [
    {
     "name": "stdout",
     "output_type": "stream",
     "text": [
      "┌─────────────────────┬────────┬────────┐\n",
      "│        dist         │ index1 │ index2 │\n",
      "│       double        │ int64  │ int64  │\n",
      "├─────────────────────┼────────┼────────┤\n",
      "│                0.25 │      0 │      0 │\n",
      "│                2.25 │      1 │      0 │\n",
      "│                 1.0 │      2 │      0 │\n",
      "│                 4.0 │      3 │      0 │\n",
      "│   8.410000000000002 │      4 │      0 │\n",
      "│                 4.0 │      5 │      0 │\n",
      "│               18.49 │      6 │      0 │\n",
      "│               30.25 │      7 │      0 │\n",
      "│  15.210000000000003 │      8 │      0 │\n",
      "│                2.25 │      9 │      0 │\n",
      "│                  ·  │      · │      · │\n",
      "│                  ·  │      · │      · │\n",
      "│                  ·  │      · │      · │\n",
      "│                 1.0 │      1 │      7 │\n",
      "│               12.25 │      2 │      7 │\n",
      "│               20.25 │      3 │      7 │\n",
      "│ 0.16000000000000028 │      4 │      7 │\n",
      "│                0.25 │      5 │      7 │\n",
      "│  3.2399999999999993 │      6 │      7 │\n",
      "│                 9.0 │      7 │      7 │\n",
      "│   1.960000000000001 │      8 │      7 │\n",
      "│                16.0 │      9 │      7 │\n",
      "│                 9.0 │     10 │      7 │\n",
      "├─────────────────────┴────────┴────────┤\n",
      "│ 88 rows (20 shown)          3 columns │\n",
      "└───────────────────────────────────────┘\n",
      "\n",
      "CPU times: user 3.81 ms, sys: 0 ns, total: 3.81 ms\n",
      "Wall time: 3.56 ms\n"
     ]
    }
   ],
   "source": [
    "%%time\n",
    "db.sql(\"\"\"\n",
    "WITH seq1 as (\n",
    "        SELECT * as value, row_number() OVER () - 1 as s_index\n",
    "        FROM s1   \n",
    "    ),\n",
    "    seq2 as (\n",
    "        SELECT * as value, row_number() OVER () - 1 as s_index\n",
    "        FROM s2   \n",
    "    )\n",
    "SELECT \n",
    "        (seq1.value - seq2.value)^2 as dist\n",
    "       ,seq1.s_index as index1\n",
    "       ,seq2.s_index as index2\n",
    "    FROM seq1\n",
    "    FULL OUTER JOIN\n",
    "        seq2 ON 1=1\n",
    "\"\"\").show()"
   ]
  },
  {
   "cell_type": "markdown",
   "metadata": {},
   "source": [
    "## Cost matrix"
   ]
  },
  {
   "cell_type": "markdown",
   "metadata": {},
   "source": [
    "The cost matrix is given as the minimum cost path to each point, coming from its preceding neighbors, accumulating cost on the way. \n",
    "\n",
    "We build upon the prior query with a recursive CTE that terminates at `0,0` and tracks back from each point to all possible preceding neighbors, recursively. At the end, by grouping on the inidices and taking the minimum cost, we are only keeping the minimum cost path to each point. \n",
    "\n",
    "The DuckDB `arg_min` function makes it easy to log which of the 3 possible preceding cells the path comes from at each step. This will be used to trace the warping path in the next step."
   ]
  },
  {
   "cell_type": "code",
   "execution_count": 9,
   "metadata": {},
   "outputs": [
    {
     "name": "stdout",
     "output_type": "stream",
     "text": [
      "┌────────────────────┬────────┬────────┬───────┐\n",
      "│        cost        │ index1 │ index2 │ step  │\n",
      "│       double       │ int64  │ int64  │ int32 │\n",
      "├────────────────────┼────────┼────────┼───────┤\n",
      "│                0.5 │      0 │      0 │  NULL │\n",
      "│ 1.8681541692269403 │      1 │      1 │     0 │\n",
      "│ 1.7291616465790582 │      2 │      1 │     0 │\n",
      "│ 0.9433981132056602 │      0 │      2 │     2 │\n",
      "│ 2.4248711305964283 │      3 │      1 │     1 │\n",
      "│ 1.4491376746189435 │      1 │      3 │     0 │\n",
      "│ 3.8535697735995385 │      2 │      3 │     0 │\n",
      "│  5.029910535983716 │      3 │      3 │     0 │\n",
      "│ 3.4117444218463966 │      4 │      2 │     0 │\n",
      "│  2.310844001658268 │      1 │      4 │     2 │\n",
      "│          ·         │      · │      · │     · │\n",
      "│          ·         │      · │      · │     · │\n",
      "│          ·         │      · │      · │     · │\n",
      "│  3.566510900025402 │      8 │      6 │     1 │\n",
      "│ 3.8196858509568563 │      8 │      7 │     0 │\n",
      "│  9.235799911215056 │      9 │      1 │     0 │\n",
      "│  6.284106937345991 │      9 │      3 │     1 │\n",
      "│  4.911211663123471 │      9 │      4 │     0 │\n",
      "│  6.223343153000645 │      9 │      6 │     1 │\n",
      "│  5.359104402789705 │      9 │      7 │     0 │\n",
      "│  9.293008124391156 │     10 │      0 │     1 │\n",
      "│  8.360023923410745 │     10 │      2 │     1 │\n",
      "│  5.230678732248808 │     10 │      5 │     0 │\n",
      "├────────────────────┴────────┴────────┴───────┤\n",
      "│ 88 rows (20 shown)                 4 columns │\n",
      "└──────────────────────────────────────────────┘\n",
      "\n",
      "CPU times: user 1.54 s, sys: 70.6 ms, total: 1.61 s\n",
      "Wall time: 1.03 s\n"
     ]
    }
   ],
   "source": [
    "%%time\n",
    "db.sql(\"\"\"\n",
    "WITH RECURSIVE\n",
    "    seq1 as (\n",
    "        SELECT * as value, row_number() OVER () - 1 as s_index\n",
    "        FROM s1   \n",
    "    ),\n",
    "    seq2 as (\n",
    "        SELECT * as value, row_number() OVER () - 1 as s_index\n",
    "        FROM s2   \n",
    "    ),\n",
    "    dist_matrix as (\n",
    "        SELECT \n",
    "            (seq1.value - seq2.value)^2 as dist\n",
    "            ,seq1.s_index as index1\n",
    "            ,seq2.s_index as index2\n",
    "        FROM seq1\n",
    "        FULL OUTER JOIN\n",
    "            seq2 ON 1=1\n",
    "    ),\n",
    "    cost_matrix_all_steps as (\n",
    "        -- start at 0,0\n",
    "        SELECT \n",
    "            dist\n",
    "            ,index1\n",
    "            ,index2\n",
    "            ,dist as cost\n",
    "            ,0 as step\n",
    "        FROM dist_matrix\n",
    "        WHERE index1 = 0 and index2 = 0\n",
    "        UNION ALL \n",
    "        -- recurse through 1 of 3 paths\n",
    "        SELECT \n",
    "            d.dist\n",
    "            ,d.index1\n",
    "            ,d.index2\n",
    "            ,d.dist + sub.cost as cost\n",
    "            , sub.step\n",
    "        FROM dist_matrix d\n",
    "        -- LEFT JOIN to a subquery that preselects the lowest cost of the three connected cells\n",
    "        LEFT JOIN (\n",
    "            -- match case\n",
    "             SELECT * EXCLUDE(step), 0 as step FROM cost_matrix_all_steps c1 WHERE d.index1 = c1.index1 + 1 AND d.index2 = c1.index2 + 1\n",
    "             UNION ALL \n",
    "            -- insertion case\n",
    "             SELECT * EXCLUDE(step), 1 as step FROM cost_matrix_all_steps c2 WHERE d.index1 = c2.index1 + 1 AND d.index2 = c2.index2\n",
    "             UNION ALL \n",
    "            -- deletion case\n",
    "             SELECT * EXCLUDE(step), 2 as step FROM cost_matrix_all_steps c3 WHERE d.index1 = c3.index1 AND d.index2 = c3.index2 + 1\n",
    "         ) sub on 1=1\n",
    "       WHERE (d.index1 > 0 OR d.index2 > 0)\n",
    "         AND \n",
    "       cost is not null\n",
    "    ),\n",
    "cost_matrix as (\n",
    "    SELECT  \n",
    "    sqrt(min(cost)) as cost\n",
    "    ,index1\n",
    "    ,index2\n",
    "    ,arg_min(step,cost) as step\n",
    "    FROM cost_matrix_all_steps\n",
    "    GROUP BY index1, index2\n",
    "    )\n",
    "SELECT * FROM cost_matrix\n",
    "       \"\"\").show()"
   ]
  },
  {
   "cell_type": "markdown",
   "metadata": {},
   "source": [
    "## Warping Path"
   ]
  },
  {
   "cell_type": "markdown",
   "metadata": {},
   "source": [
    "By starting a recursive CTE at the terminal point (index `N-1,M-1`) and stepping back along the recorded step directions, we can extract the warping path"
   ]
  },
  {
   "cell_type": "code",
   "execution_count": 19,
   "metadata": {},
   "outputs": [
    {
     "name": "stdout",
     "output_type": "stream",
     "text": [
      "┌────────┬────────┬────────────────────┐\n",
      "│ index1 │ index2 │        cost        │\n",
      "│ int64  │ int64  │       double       │\n",
      "├────────┼────────┼────────────────────┤\n",
      "│     10 │      7 │  6.141661013113635 │\n",
      "│      9 │      7 │  5.359104402789705 │\n",
      "│      8 │      6 │  3.566510900025402 │\n",
      "│      7 │      6 │ 3.5538711287833724 │\n",
      "│      6 │      6 │ 3.0033314835362415 │\n",
      "│      5 │      5 │  2.920616373302047 │\n",
      "│      4 │      5 │ 2.8354893757515653 │\n",
      "│      3 │      4 │  2.340939982143925 │\n",
      "│      2 │      4 │ 1.6093476939431077 │\n",
      "│      1 │      3 │ 1.4491376746189435 │\n",
      "│      0 │      2 │ 0.9433981132056602 │\n",
      "│      0 │      1 │ 0.9433981132056602 │\n",
      "│      0 │      0 │                0.5 │\n",
      "├────────┴────────┴────────────────────┤\n",
      "│ 13 rows                    3 columns │\n",
      "└──────────────────────────────────────┘\n",
      "\n",
      "CPU times: user 26.1 s, sys: 783 ms, total: 26.9 s\n",
      "Wall time: 14.6 s\n"
     ]
    }
   ],
   "source": [
    "%%time\n",
    "db.sql(\"\"\"\n",
    "WITH RECURSIVE\n",
    "    seq1 as (\n",
    "        SELECT * as value, row_number() OVER () - 1 as s_index\n",
    "        FROM s1   \n",
    "    ),\n",
    "    seq2 as (\n",
    "        SELECT * as value, row_number() OVER () - 1 as s_index\n",
    "        FROM s2   \n",
    "    ),\n",
    "    dist_matrix as (\n",
    "        SELECT \n",
    "            (seq1.value - seq2.value)^2 as dist\n",
    "            ,seq1.s_index as index1\n",
    "            ,seq2.s_index as index2\n",
    "        FROM seq1\n",
    "        FULL OUTER JOIN\n",
    "            seq2 ON 1=1\n",
    "    ),\n",
    "    cost_matrix_all_steps as (\n",
    "        -- start at 0,0\n",
    "        SELECT \n",
    "            dist\n",
    "            ,index1\n",
    "            ,index2\n",
    "            ,dist as cost\n",
    "            ,0 as step\n",
    "        FROM dist_matrix\n",
    "        WHERE index1 = 0 and index2 = 0\n",
    "        UNION ALL \n",
    "        -- recurse through 1 of 3 paths\n",
    "        SELECT \n",
    "            d.dist\n",
    "            ,d.index1\n",
    "            ,d.index2\n",
    "            ,d.dist + sub.cost as cost\n",
    "            , sub.step\n",
    "        FROM dist_matrix d\n",
    "        -- LEFT JOIN to a subquery that preselects the lowest cost of the three connected cells\n",
    "        LEFT JOIN (\n",
    "            -- match case\n",
    "             SELECT * EXCLUDE(step), 0 as step FROM cost_matrix_all_steps c1 WHERE d.index1 = c1.index1 + 1 AND d.index2 = c1.index2 + 1\n",
    "             UNION ALL \n",
    "            -- insertion case\n",
    "             SELECT * EXCLUDE(step), 1 as step FROM cost_matrix_all_steps c2 WHERE d.index1 = c2.index1 + 1 AND d.index2 = c2.index2\n",
    "             UNION ALL \n",
    "            -- deletion case\n",
    "             SELECT * EXCLUDE(step), 2 as step FROM cost_matrix_all_steps c3 WHERE d.index1 = c3.index1 AND d.index2 = c3.index2 + 1\n",
    "         ) sub on 1=1\n",
    "       WHERE (d.index1 > 0 OR d.index2 > 0)\n",
    "         AND \n",
    "       cost is not null\n",
    "    ),\n",
    "cost_matrix as (\n",
    "    SELECT  \n",
    "    sqrt(min(cost)) as cost\n",
    "    ,index1\n",
    "    ,index2\n",
    "    ,arg_min(step,cost) as step\n",
    "    FROM cost_matrix_all_steps\n",
    "    GROUP BY index1, index2\n",
    "    ),\n",
    "    warping_path as (\n",
    "       -- recursive function to start at top-right corner and trace back to origin\n",
    "       SELECT \n",
    "          * \n",
    "       ,CASE WHEN step = 0 or step = 1 THEN index1 - 1\n",
    "                ELSE index1 END\n",
    "        as next_index1 \n",
    "       ,CASE WHEN step = 0 or step = 2 THEN index2 - 1\n",
    "                ELSE index2 END\n",
    "        as next_index2\n",
    "       FROM cost_matrix\n",
    "          WHERE index1 = (SELECT max(s_index) FROM seq1) AND index2 = (SELECT max(s_index) FROM seq2)\n",
    "       \n",
    "       UNION ALL\n",
    "       \n",
    "       SELECT \n",
    "          c.* \n",
    "       ,CASE WHEN c.step = 0 or c.step = 1 THEN c.index1 - 1\n",
    "                ELSE c.index1 END\n",
    "        as next_index1 \n",
    "       ,CASE WHEN c.step = 0 or c.step = 2 THEN c.index2 - 1\n",
    "                ELSE c.index2 END\n",
    "        as next_index2\n",
    "       FROM warping_path wp\n",
    "       INNER JOIN cost_matrix c ON c.index1 = wp.next_index1 AND c.index2 = wp.next_index2\n",
    "       WHERE c.index1 >= 0 AND c.index2 >= 0\n",
    "       )\n",
    "    SELECT index1, index2, cost FROM warping_path\n",
    "\"\"\").show()"
   ]
  },
  {
   "cell_type": "markdown",
   "metadata": {},
   "source": [
    "## Validation"
   ]
  },
  {
   "cell_type": "markdown",
   "metadata": {},
   "source": [
    "Let's compare to the solution from `dtaidistance` to check that the result is correct. We will use the `_fast` variant of each method as the target for performance as well."
   ]
  },
  {
   "cell_type": "code",
   "execution_count": 13,
   "metadata": {},
   "outputs": [],
   "source": [
    "from dtaidistance.dtw import distance_fast, warping_path_fast"
   ]
  },
  {
   "cell_type": "code",
   "execution_count": 17,
   "metadata": {},
   "outputs": [
    {
     "name": "stdout",
     "output_type": "stream",
     "text": [
      "CPU times: user 35 μs, sys: 1e+03 ns, total: 36 μs\n",
      "Wall time: 39.1 μs\n"
     ]
    },
    {
     "data": {
      "text/plain": [
       "[(0, 0),\n",
       " (0, 1),\n",
       " (0, 2),\n",
       " (1, 3),\n",
       " (2, 4),\n",
       " (3, 4),\n",
       " (4, 5),\n",
       " (5, 5),\n",
       " (6, 6),\n",
       " (7, 6),\n",
       " (8, 6),\n",
       " (9, 7),\n",
       " (10, 7)]"
      ]
     },
     "execution_count": 17,
     "metadata": {},
     "output_type": "execute_result"
    }
   ],
   "source": [
    "%%time\n",
    "warping_path_fast(s1,s2)"
   ]
  },
  {
   "cell_type": "code",
   "execution_count": 18,
   "metadata": {},
   "outputs": [
    {
     "name": "stdout",
     "output_type": "stream",
     "text": [
      "CPU times: user 53 μs, sys: 0 ns, total: 53 μs\n",
      "Wall time: 56.3 μs\n"
     ]
    },
    {
     "data": {
      "text/plain": [
       "6.141661013113635"
      ]
     },
     "execution_count": 18,
     "metadata": {},
     "output_type": "execute_result"
    }
   ],
   "source": [
    "%%time\n",
    "distance_fast(s1, s2)"
   ]
  },
  {
   "cell_type": "markdown",
   "metadata": {},
   "source": [
    "The calculated square Euclidean DTW distance of `6.14166` matches between the DuckDB method and the `dtaidistance` calculation. The warping paths are also identical. (read the table output by the DuckDB query from bottom to top, and see that the indices match the path given by `warping_path_fast`)"
   ]
  },
  {
   "cell_type": "markdown",
   "metadata": {},
   "source": [
    "However, the performance difference is substantial. This initial attempt with DuckDB took about 153,000x as long to execute! (Running on a min-spec GitHub Codespaces instance with 2 cores)"
   ]
  },
  {
   "cell_type": "markdown",
   "metadata": {},
   "source": [
    "## Performance Improvement"
   ]
  },
  {
   "cell_type": "markdown",
   "metadata": {},
   "source": [
    "There are a few clear opportunities for performance improvement:\n",
    "\n",
    "* Breaking one monolithic query (with multiple recursive CTEs) into distinct materialized tables\n",
    "* Reducing unnecessary recursion: The initial approach above traverses all possible paths through the distance matrix, then filters down to the lowest cost paths outside of the recursion. Moving this into the recursive CTE should significantly reduce required computation."
   ]
  },
  {
   "cell_type": "markdown",
   "metadata": {},
   "source": [
    "### Incremental Materialization"
   ]
  },
  {
   "cell_type": "code",
   "execution_count": 20,
   "metadata": {},
   "outputs": [
    {
     "name": "stdout",
     "output_type": "stream",
     "text": [
      "┌────────┬────────┬────────────────────┐\n",
      "│ index1 │ index2 │        cost        │\n",
      "│ int64  │ int64  │       double       │\n",
      "├────────┼────────┼────────────────────┤\n",
      "│     10 │      7 │  6.141661013113635 │\n",
      "│      9 │      7 │  5.359104402789705 │\n",
      "│      8 │      6 │  3.566510900025402 │\n",
      "│      7 │      6 │ 3.5538711287833724 │\n",
      "│      6 │      6 │ 3.0033314835362415 │\n",
      "│      5 │      5 │  2.920616373302047 │\n",
      "│      4 │      5 │ 2.8354893757515653 │\n",
      "│      3 │      4 │  2.340939982143925 │\n",
      "│      2 │      4 │ 1.6093476939431077 │\n",
      "│      1 │      3 │ 1.4491376746189435 │\n",
      "│      0 │      2 │ 0.9433981132056602 │\n",
      "│      0 │      1 │ 0.9433981132056602 │\n",
      "│      0 │      0 │                0.5 │\n",
      "├────────┴────────┴────────────────────┤\n",
      "│ 13 rows                    3 columns │\n",
      "└──────────────────────────────────────┘\n",
      "\n",
      "CPU times: user 1.4 s, sys: 71.1 ms, total: 1.47 s\n",
      "Wall time: 883 ms\n"
     ]
    }
   ],
   "source": [
    "%%time\n",
    "db.sql(\"\"\"\n",
    "CREATE OR REPLACE TEMP TABLE seq1 as \n",
    "        SELECT * as value, row_number() OVER () - 1 as s_index\n",
    "        FROM s1   \n",
    "    ;\n",
    "\n",
    "CREATE OR REPLACE TEMP TABLE seq2 as \n",
    "        SELECT * as value, row_number() OVER () - 1 as s_index\n",
    "        FROM s2   \n",
    "    ;\n",
    "\n",
    "CREATE OR REPLACE TEMP TABLE dist_matrix as \n",
    "        SELECT \n",
    "            (seq1.value - seq2.value)^2 as dist\n",
    "            ,seq1.s_index as index1\n",
    "            ,seq2.s_index as index2\n",
    "        FROM seq1\n",
    "        FULL OUTER JOIN\n",
    "            seq2 ON 1=1\n",
    "    ;\n",
    "\n",
    "CREATE OR REPLACE TEMP TABLE cost_matrix as\n",
    "    with recursive cost_matrix_all_steps as (\n",
    "        -- start at 0,0\n",
    "        SELECT \n",
    "            dist\n",
    "            ,index1\n",
    "            ,index2\n",
    "            ,dist as cost\n",
    "            ,0 as step\n",
    "        FROM dist_matrix\n",
    "        WHERE index1 = 0 and index2 = 0\n",
    "        UNION ALL \n",
    "        -- recurse through 1 of 3 paths\n",
    "        SELECT \n",
    "            d.dist\n",
    "            ,d.index1\n",
    "            ,d.index2\n",
    "            ,d.dist + sub.cost as cost\n",
    "            , sub.step\n",
    "        FROM dist_matrix d\n",
    "        -- LEFT JOIN to a subquery that preselects the lowest cost of the three connected cells\n",
    "        LEFT JOIN (\n",
    "            -- match case\n",
    "             SELECT * EXCLUDE(step), 0 as step FROM cost_matrix_all_steps c1 WHERE d.index1 = c1.index1 + 1 AND d.index2 = c1.index2 + 1\n",
    "             UNION ALL \n",
    "            -- insertion case\n",
    "             SELECT * EXCLUDE(step), 1 as step FROM cost_matrix_all_steps c2 WHERE d.index1 = c2.index1 + 1 AND d.index2 = c2.index2\n",
    "             UNION ALL \n",
    "            -- deletion case\n",
    "             SELECT * EXCLUDE(step), 2 as step FROM cost_matrix_all_steps c3 WHERE d.index1 = c3.index1 AND d.index2 = c3.index2 + 1\n",
    "         ) sub on 1=1\n",
    "       WHERE (d.index1 > 0 OR d.index2 > 0)\n",
    "         AND \n",
    "       cost is not null\n",
    "    )\n",
    "    SELECT  \n",
    "    sqrt(min(cost)) as cost\n",
    "    ,index1\n",
    "    ,index2\n",
    "    ,arg_min(step,cost) as step\n",
    "    FROM cost_matrix_all_steps\n",
    "    GROUP BY index1, index2\n",
    "    ;\n",
    "\n",
    "    with recursive warping_path as (\n",
    "       -- recursive function to start at top-right corner and trace back to origin\n",
    "       SELECT \n",
    "          * \n",
    "       ,CASE WHEN step = 0 or step = 1 THEN index1 - 1\n",
    "                ELSE index1 END\n",
    "        as next_index1 \n",
    "       ,CASE WHEN step = 0 or step = 2 THEN index2 - 1\n",
    "                ELSE index2 END\n",
    "        as next_index2\n",
    "       FROM cost_matrix\n",
    "          WHERE index1 = (SELECT max(s_index) FROM seq1) AND index2 = (SELECT max(s_index) FROM seq2)\n",
    "       \n",
    "       UNION ALL\n",
    "       \n",
    "       SELECT \n",
    "          c.* \n",
    "       ,CASE WHEN c.step = 0 or c.step = 1 THEN c.index1 - 1\n",
    "                ELSE c.index1 END\n",
    "        as next_index1 \n",
    "       ,CASE WHEN c.step = 0 or c.step = 2 THEN c.index2 - 1\n",
    "                ELSE c.index2 END\n",
    "        as next_index2\n",
    "       FROM warping_path wp\n",
    "       INNER JOIN cost_matrix c ON c.index1 = wp.next_index1 AND c.index2 = wp.next_index2\n",
    "       WHERE c.index1 >= 0 AND c.index2 >= 0\n",
    "       )\n",
    "    SELECT index1, index2, cost FROM warping_path\n",
    "\"\"\").show()"
   ]
  },
  {
   "cell_type": "markdown",
   "metadata": {},
   "source": [
    "That is over **16x** faster than the initial attemp with DuckDB, but still 9250x slower than `dtaidistance.distance_fast`"
   ]
  },
  {
   "cell_type": "markdown",
   "metadata": {},
   "source": []
  }
 ],
 "metadata": {
  "kernelspec": {
   "display_name": "Python 3",
   "language": "python",
   "name": "python3"
  },
  "language_info": {
   "codemirror_mode": {
    "name": "ipython",
    "version": 3
   },
   "file_extension": ".py",
   "mimetype": "text/x-python",
   "name": "python",
   "nbconvert_exporter": "python",
   "pygments_lexer": "ipython3",
   "version": "3.12.3"
  }
 },
 "nbformat": 4,
 "nbformat_minor": 2
}
